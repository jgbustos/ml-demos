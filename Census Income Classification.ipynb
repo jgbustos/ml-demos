{
 "cells": [
  {
   "cell_type": "markdown",
   "metadata": {},
   "source": [
    "# Initialisation"
   ]
  },
  {
   "cell_type": "markdown",
   "metadata": {},
   "source": [
    "Installing standard libraries, which only needs to be done once:\n",
    "- Scientific computing (numpy, scipy)\n",
    "- Data analysis (pandas)\n",
    "- Plotting (matplotlib, seaborn)\n",
    "- Machine learning (scikit-learn)\n",
    "- Gradient-boosted trees (xgboost. lightgbm)\n",
    "- Deep learning (tensorflow, keras, scikeras)\n",
    "- File persistence (joblib, h5py)\n",
    "\n",
    "Uncomment for first run!!"
   ]
  },
  {
   "cell_type": "code",
   "execution_count": null,
   "metadata": {
    "ExecuteTime": {
     "end_time": "2022-08-03T11:04:48.060616Z",
     "start_time": "2022-08-03T11:01:14.460294Z"
    },
    "scrolled": false
   },
   "outputs": [],
   "source": [
    "'''import sys\n",
    "!{sys.executable} -m pip install black\n",
    "!{sys.executable} -m pip install jupyter_black\n",
    "!{sys.executable} -m pip install numpy\n",
    "!{sys.executable} -m pip install scipy\n",
    "!{sys.executable} -m pip install pandas\n",
    "!{sys.executable} -m pip install matplotlib\n",
    "!{sys.executable} -m pip install seaborn\n",
    "!{sys.executable} -m pip install scikit-learn\n",
    "!{sys.executable} -m pip install xgboost\n",
    "!{sys.executable} -m pip install catboost\n",
    "!{sys.executable} -m pip install lightgbm\n",
    "!{sys.executable} -m pip install tensorflow\n",
    "!{sys.executable} -m pip install keras\n",
    "!{sys.executable} -m pip install scikeras\n",
    "!{sys.executable} -m pip install joblib\n",
    "!{sys.executable} -m pip install h5py\n",
    "!{sys.executable} -m pip install dataframe_image\n",
    "!{sys.executable} -m pip install scikit-learn-intelex'''"
   ]
  },
  {
   "cell_type": "code",
   "execution_count": null,
   "metadata": {
    "ExecuteTime": {
     "end_time": "2022-08-03T10:27:34.763478Z",
     "start_time": "2022-08-03T10:27:34.465329Z"
    }
   },
   "outputs": [],
   "source": [
    "import jupyter_black\n",
    "\n",
    "jupyter_black.load(lab=False)"
   ]
  },
  {
   "cell_type": "code",
   "execution_count": null,
   "metadata": {
    "ExecuteTime": {
     "end_time": "2022-08-03T10:27:35.786841Z",
     "start_time": "2022-08-03T10:27:35.723473Z"
    },
    "scrolled": false
   },
   "outputs": [],
   "source": [
    "from IPython.core.display import HTML\n",
    "\n",
    "HTML(\"<style> .container{ width:90%; } </style>\")"
   ]
  },
  {
   "cell_type": "code",
   "execution_count": null,
   "metadata": {
    "ExecuteTime": {
     "end_time": "2022-08-03T10:27:41.114024Z",
     "start_time": "2022-08-03T10:27:37.597553Z"
    },
    "scrolled": false
   },
   "outputs": [],
   "source": [
    "import numpy as np\n",
    "import scipy as sp\n",
    "import pandas as pd\n",
    "import matplotlib as mpl\n",
    "import matplotlib.pyplot as plt\n",
    "import seaborn as sns\n",
    "\n",
    "%matplotlib inline"
   ]
  },
  {
   "cell_type": "markdown",
   "metadata": {},
   "source": [
    "️Intel(R) Extension for Scikit-learn (https://github.com/intel/scikit-learn-intelex)"
   ]
  },
  {
   "cell_type": "code",
   "execution_count": null,
   "metadata": {
    "ExecuteTime": {
     "end_time": "2022-08-03T10:27:41.945162Z",
     "start_time": "2022-08-03T10:27:41.114024Z"
    }
   },
   "outputs": [],
   "source": [
    "from sklearnex import patch_sklearn\n",
    "\n",
    "patch_sklearn()"
   ]
  },
  {
   "cell_type": "markdown",
   "metadata": {},
   "source": [
    "# Data Loading"
   ]
  },
  {
   "cell_type": "markdown",
   "metadata": {},
   "source": [
    "Loading CVS file onto pandas dataframe, a tabular data structure.\n",
    "\n",
    "Printing first few rows, the shape of data (rows, column), the data types, and some basic analysis of the numeric features"
   ]
  },
  {
   "cell_type": "code",
   "execution_count": null,
   "metadata": {
    "ExecuteTime": {
     "end_time": "2022-08-03T10:27:42.212178Z",
     "start_time": "2022-08-03T10:27:41.945162Z"
    },
    "scrolled": true
   },
   "outputs": [],
   "source": [
    "col_names = [\n",
    "    \"age\",\n",
    "    \"workclass\",\n",
    "    \"fnlwgt\",\n",
    "    \"education\",\n",
    "    \"education-num\",\n",
    "    \"marital-status\",\n",
    "    \"occupation\",\n",
    "    \"relationship\",\n",
    "    \"race\",\n",
    "    \"sex\",\n",
    "    \"capital-gain\",\n",
    "    \"capital-loss\",\n",
    "    \"hours-per-week\",\n",
    "    \"native-country\",\n",
    "    \"income\",\n",
    "]\n",
    "\n",
    "df = pd.read_csv(\n",
    "    \"data/census_income.csv\", names=col_names, skipinitialspace=True, na_values=[\"?\"]\n",
    ")\n",
    "df.head(10)"
   ]
  },
  {
   "cell_type": "code",
   "execution_count": null,
   "metadata": {
    "ExecuteTime": {
     "end_time": "2022-08-03T10:27:42.243677Z",
     "start_time": "2022-08-03T10:27:42.212178Z"
    },
    "scrolled": false
   },
   "outputs": [],
   "source": [
    "df.shape"
   ]
  },
  {
   "cell_type": "code",
   "execution_count": null,
   "metadata": {
    "ExecuteTime": {
     "end_time": "2022-08-03T10:27:42.416445Z",
     "start_time": "2022-08-03T10:27:42.243677Z"
    },
    "scrolled": false
   },
   "outputs": [],
   "source": [
    "df.info()"
   ]
  },
  {
   "cell_type": "code",
   "execution_count": null,
   "metadata": {
    "ExecuteTime": {
     "end_time": "2022-08-03T10:27:42.494558Z",
     "start_time": "2022-08-03T10:27:42.416445Z"
    },
    "scrolled": false
   },
   "outputs": [],
   "source": [
    "df.describe()"
   ]
  },
  {
   "cell_type": "markdown",
   "metadata": {},
   "source": [
    "Based on the data description available at https://archive.ics.uci.edu/ml/machine-learning-databases/adult/adult.names, \n",
    "feature 'fnlwgt' does not add any useful information, so it is best to remove.\n",
    "\n",
    "Feature \"education\" is also redundant because \"education-num\" encodes the same information with numerical values."
   ]
  },
  {
   "cell_type": "code",
   "execution_count": null,
   "metadata": {
    "ExecuteTime": {
     "end_time": "2022-08-03T10:27:42.541852Z",
     "start_time": "2022-08-03T10:27:42.498070Z"
    },
    "scrolled": false
   },
   "outputs": [],
   "source": [
    "df = df.drop(\"fnlwgt\", axis=1)\n",
    "df = df.drop(\"education\", axis=1)"
   ]
  },
  {
   "cell_type": "markdown",
   "metadata": {},
   "source": [
    "# Exploratory Data Analysis"
   ]
  },
  {
   "cell_type": "markdown",
   "metadata": {},
   "source": [
    "Check whether numeric features are correlated. Since they are not, all of them bring new relevant information"
   ]
  },
  {
   "cell_type": "code",
   "execution_count": null,
   "metadata": {
    "ExecuteTime": {
     "end_time": "2022-08-03T10:27:43.059279Z",
     "start_time": "2022-08-03T10:27:42.541852Z"
    },
    "scrolled": false
   },
   "outputs": [],
   "source": [
    "plt.figure(figsize=(10, 4))\n",
    "sns.heatmap(df.corr(), annot=True, cmap=\"Blues\", linecolor=\"white\", linewidths=1)\n",
    "plt.show()"
   ]
  },
  {
   "cell_type": "markdown",
   "metadata": {},
   "source": [
    "Plot data to understand it, determine whether any features look strongly correlated with high or low income"
   ]
  },
  {
   "cell_type": "code",
   "execution_count": null,
   "metadata": {
    "ExecuteTime": {
     "end_time": "2022-08-03T10:27:43.671194Z",
     "start_time": "2022-08-03T10:27:43.059279Z"
    },
    "scrolled": false
   },
   "outputs": [],
   "source": [
    "plt.figure(figsize=(12, 6))\n",
    "sns.countplot(\n",
    "    x=df[\"income\"],\n",
    "    hue=df[\"education-num\"],\n",
    "    palette=\"rainbow\",\n",
    "    edgecolor=[(0, 0, 0), (0, 0, 0)],\n",
    ")\n",
    "plt.show()"
   ]
  },
  {
   "cell_type": "code",
   "execution_count": null,
   "metadata": {
    "ExecuteTime": {
     "end_time": "2022-08-03T10:27:43.985875Z",
     "start_time": "2022-08-03T10:27:43.671194Z"
    },
    "scrolled": true
   },
   "outputs": [],
   "source": [
    "plt.figure(figsize=(12, 4))\n",
    "sns.countplot(\n",
    "    y=df[\"income\"], hue=df[\"sex\"], palette=\"Set1\", edgecolor=[(0, 0, 0), (0, 0, 0)]\n",
    ")\n",
    "plt.show()"
   ]
  },
  {
   "cell_type": "code",
   "execution_count": null,
   "metadata": {
    "ExecuteTime": {
     "end_time": "2022-08-03T10:27:44.426130Z",
     "start_time": "2022-08-03T10:27:43.985875Z"
    },
    "scrolled": false
   },
   "outputs": [],
   "source": [
    "plt.figure(figsize=(12, 4))\n",
    "sns.countplot(\n",
    "    y=df[\"income\"],\n",
    "    hue=df[\"marital-status\"],\n",
    "    palette=\"Set1\",\n",
    "    edgecolor=[(0, 0, 0), (0, 0, 0)],\n",
    ")\n",
    "plt.show()"
   ]
  },
  {
   "cell_type": "code",
   "execution_count": null,
   "metadata": {
    "ExecuteTime": {
     "end_time": "2022-08-03T10:27:44.928316Z",
     "start_time": "2022-08-03T10:27:44.426130Z"
    },
    "scrolled": false
   },
   "outputs": [],
   "source": [
    "plt.figure(figsize=(12, 4))\n",
    "sns.countplot(\n",
    "    y=df[\"income\"],\n",
    "    hue=df[\"relationship\"],\n",
    "    palette=\"Set1\",\n",
    "    edgecolor=[(0, 0, 0), (0, 0, 0)],\n",
    ")\n",
    "plt.show()"
   ]
  },
  {
   "cell_type": "code",
   "execution_count": null,
   "metadata": {
    "ExecuteTime": {
     "end_time": "2022-08-03T10:27:45.493766Z",
     "start_time": "2022-08-03T10:27:44.928316Z"
    },
    "scrolled": false
   },
   "outputs": [],
   "source": [
    "plt.figure(figsize=(12, 6))\n",
    "sns.countplot(\n",
    "    y=df[\"income\"],\n",
    "    hue=df[\"occupation\"],\n",
    "    palette=\"tab20\",\n",
    "    edgecolor=[(0, 0, 0), (0, 0, 0)],\n",
    ")\n",
    "plt.show()"
   ]
  },
  {
   "cell_type": "code",
   "execution_count": null,
   "metadata": {
    "ExecuteTime": {
     "end_time": "2022-08-03T10:27:45.951261Z",
     "start_time": "2022-08-03T10:27:45.493766Z"
    },
    "scrolled": false
   },
   "outputs": [],
   "source": [
    "plt.figure(figsize=(12, 4))\n",
    "sns.countplot(\n",
    "    y=df[\"income\"], hue=df[\"race\"], palette=\"Set1\", edgecolor=[(0, 0, 0), (0, 0, 0)]\n",
    ")\n",
    "plt.show()"
   ]
  },
  {
   "cell_type": "code",
   "execution_count": null,
   "metadata": {
    "ExecuteTime": {
     "end_time": "2022-08-03T10:27:46.390945Z",
     "start_time": "2022-08-03T10:27:45.951261Z"
    },
    "scrolled": false
   },
   "outputs": [],
   "source": [
    "plt.figure(figsize=(12, 5))\n",
    "sns.countplot(\n",
    "    y=df[\"income\"],\n",
    "    hue=df[\"workclass\"],\n",
    "    palette=\"Set1\",\n",
    "    edgecolor=[(0, 0, 0), (0, 0, 0)],\n",
    ")\n",
    "plt.show()"
   ]
  },
  {
   "cell_type": "code",
   "execution_count": null,
   "metadata": {
    "ExecuteTime": {
     "end_time": "2022-08-03T10:27:46.769333Z",
     "start_time": "2022-08-03T10:27:46.390945Z"
    },
    "scrolled": false
   },
   "outputs": [],
   "source": [
    "plt.figure(figsize=(12, 6))\n",
    "sns.boxenplot(x=\"income\", y=\"age\", data=df, hue=\"sex\", palette=\"Set1\")\n",
    "plt.show()"
   ]
  },
  {
   "cell_type": "markdown",
   "metadata": {},
   "source": [
    "# Dealing with NULLs"
   ]
  },
  {
   "cell_type": "code",
   "execution_count": null,
   "metadata": {
    "ExecuteTime": {
     "end_time": "2022-08-03T10:27:46.941808Z",
     "start_time": "2022-08-03T10:27:46.769333Z"
    },
    "scrolled": false
   },
   "outputs": [],
   "source": [
    "df.info()"
   ]
  },
  {
   "cell_type": "code",
   "execution_count": null,
   "metadata": {
    "ExecuteTime": {
     "end_time": "2022-08-03T10:27:47.192781Z",
     "start_time": "2022-08-03T10:27:46.941808Z"
    },
    "scrolled": true
   },
   "outputs": [],
   "source": [
    "df[df.isnull().any(axis=1)]"
   ]
  },
  {
   "cell_type": "code",
   "execution_count": null,
   "metadata": {
    "ExecuteTime": {
     "end_time": "2022-08-03T10:27:47.224507Z",
     "start_time": "2022-08-03T10:27:47.192781Z"
    },
    "scrolled": false
   },
   "outputs": [],
   "source": [
    "df[\"native-country\"].value_counts(dropna=False).head(10)"
   ]
  },
  {
   "cell_type": "code",
   "execution_count": null,
   "metadata": {
    "ExecuteTime": {
     "end_time": "2022-08-03T10:27:47.271355Z",
     "start_time": "2022-08-03T10:27:47.224507Z"
    },
    "scrolled": false
   },
   "outputs": [],
   "source": [
    "df[\"native-country\"].fillna(\"United-States\", inplace=True)\n",
    "df[df[\"native-country\"].isnull()]"
   ]
  },
  {
   "cell_type": "code",
   "execution_count": null,
   "metadata": {
    "ExecuteTime": {
     "end_time": "2022-08-03T10:27:47.302597Z",
     "start_time": "2022-08-03T10:27:47.271355Z"
    },
    "scrolled": false
   },
   "outputs": [],
   "source": [
    "df[\"workclass\"].value_counts(dropna=False)"
   ]
  },
  {
   "cell_type": "code",
   "execution_count": null,
   "metadata": {
    "ExecuteTime": {
     "end_time": "2022-08-03T10:27:47.349923Z",
     "start_time": "2022-08-03T10:27:47.308121Z"
    },
    "scrolled": false
   },
   "outputs": [],
   "source": [
    "df[\"workclass\"].fillna(\"Private\", inplace=True)\n",
    "df[df[\"workclass\"].isnull()]"
   ]
  },
  {
   "cell_type": "code",
   "execution_count": null,
   "metadata": {
    "ExecuteTime": {
     "end_time": "2022-08-03T10:27:47.396793Z",
     "start_time": "2022-08-03T10:27:47.349923Z"
    },
    "scrolled": false
   },
   "outputs": [],
   "source": [
    "df[\"occupation\"].value_counts(dropna=False)"
   ]
  },
  {
   "cell_type": "code",
   "execution_count": null,
   "metadata": {
    "ExecuteTime": {
     "end_time": "2022-08-03T10:27:47.459719Z",
     "start_time": "2022-08-03T10:27:47.396793Z"
    }
   },
   "outputs": [],
   "source": [
    "df[\"occupation\"].fillna(\"unknown\", inplace=True)\n",
    "df[df[\"occupation\"].isnull()]"
   ]
  },
  {
   "cell_type": "code",
   "execution_count": null,
   "metadata": {
    "ExecuteTime": {
     "end_time": "2022-08-03T10:27:47.600858Z",
     "start_time": "2022-08-03T10:27:47.459719Z"
    },
    "scrolled": true
   },
   "outputs": [],
   "source": [
    "df[df.isnull().any(axis=1)]"
   ]
  },
  {
   "cell_type": "code",
   "execution_count": null,
   "metadata": {
    "ExecuteTime": {
     "end_time": "2022-08-03T10:27:47.804941Z",
     "start_time": "2022-08-03T10:27:47.600858Z"
    },
    "scrolled": false
   },
   "outputs": [],
   "source": [
    "df.dropna(inplace=True)\n",
    "df[pd.isnull(df).any(axis=1)]"
   ]
  },
  {
   "cell_type": "markdown",
   "metadata": {},
   "source": [
    "# Transforming Categorical Features"
   ]
  },
  {
   "cell_type": "code",
   "execution_count": null,
   "metadata": {
    "ExecuteTime": {
     "end_time": "2022-08-03T10:27:47.962143Z",
     "start_time": "2022-08-03T10:27:47.809496Z"
    },
    "scrolled": false
   },
   "outputs": [],
   "source": [
    "tdf = pd.get_dummies(\n",
    "    df,\n",
    "    columns=[\n",
    "        \"workclass\",\n",
    "        \"marital-status\",\n",
    "        \"occupation\",\n",
    "        \"relationship\",\n",
    "        \"race\",\n",
    "        \"sex\",\n",
    "        \"native-country\",\n",
    "    ],\n",
    "    drop_first=True,\n",
    ")"
   ]
  },
  {
   "cell_type": "code",
   "execution_count": null,
   "metadata": {
    "ExecuteTime": {
     "end_time": "2022-08-03T10:27:48.056415Z",
     "start_time": "2022-08-03T10:27:47.962143Z"
    },
    "scrolled": true
   },
   "outputs": [],
   "source": [
    "tdf.info()"
   ]
  },
  {
   "cell_type": "markdown",
   "metadata": {},
   "source": [
    "# Train-Test Split"
   ]
  },
  {
   "cell_type": "markdown",
   "metadata": {},
   "source": [
    "Split the dataframe into features (X) and labels(y)"
   ]
  },
  {
   "cell_type": "code",
   "execution_count": null,
   "metadata": {
    "ExecuteTime": {
     "end_time": "2022-08-03T10:27:48.166184Z",
     "start_time": "2022-08-03T10:27:48.056415Z"
    },
    "scrolled": false
   },
   "outputs": [],
   "source": [
    "from sklearn.preprocessing import label_binarize\n",
    "\n",
    "X = tdf.drop(\"income\", axis=1)\n",
    "y = label_binarize(tdf[\"income\"], classes=[\"<=50K\", \">50K\"])"
   ]
  },
  {
   "cell_type": "markdown",
   "metadata": {},
   "source": [
    "Put aside 20% of features to test, train with remaining 80%"
   ]
  },
  {
   "cell_type": "code",
   "execution_count": null,
   "metadata": {
    "ExecuteTime": {
     "end_time": "2022-08-03T10:27:48.699844Z",
     "start_time": "2022-08-03T10:27:48.166184Z"
    },
    "scrolled": false
   },
   "outputs": [],
   "source": [
    "from sklearn.model_selection import train_test_split\n",
    "\n",
    "X_train, X_test, y_train, y_test = train_test_split(X, y, test_size=0.20)\n",
    "\n",
    "prior_0 = len(y_train[y_train == 0]) / len(y_train)\n",
    "prior_1 = 1 - prior_0"
   ]
  },
  {
   "cell_type": "markdown",
   "metadata": {},
   "source": [
    "# Feature Selection"
   ]
  },
  {
   "cell_type": "markdown",
   "metadata": {},
   "source": [
    "Now our problem is we have 80 variables to predict a single one. Many of these variables will have absolutely no impact on the income of our citizens, but will add a lot of useless noise to the regression, and may even make it not converge.\n",
    "\n",
    "We use a little trick called SelectKBest that will give us the k=30 best features based on a standard statistical score. In this case, we use Pearson's Chi Squared test."
   ]
  },
  {
   "cell_type": "code",
   "execution_count": null,
   "metadata": {
    "ExecuteTime": {
     "end_time": "2022-08-03T10:27:48.809976Z",
     "start_time": "2022-08-03T10:27:48.699844Z"
    },
    "scrolled": false
   },
   "outputs": [],
   "source": [
    "from sklearn.feature_selection import SelectKBest, chi2\n",
    "\n",
    "feature_select = SelectKBest(chi2, k=30)\n",
    "feature_select.fit(X_train, y_train)"
   ]
  },
  {
   "cell_type": "markdown",
   "metadata": {},
   "source": [
    "List the surviving features, along with their scores"
   ]
  },
  {
   "cell_type": "code",
   "execution_count": null,
   "metadata": {
    "ExecuteTime": {
     "end_time": "2022-08-03T10:27:48.857291Z",
     "start_time": "2022-08-03T10:27:48.811500Z"
    },
    "scrolled": false
   },
   "outputs": [],
   "source": [
    "uni_features = list(zip(feature_select.scores_, X_train.columns))\n",
    "sorted(uni_features, reverse=True)[0:30]"
   ]
  },
  {
   "cell_type": "markdown",
   "metadata": {},
   "source": [
    "# Utility Functions"
   ]
  },
  {
   "cell_type": "code",
   "execution_count": null,
   "metadata": {
    "ExecuteTime": {
     "end_time": "2022-08-03T10:27:48.967112Z",
     "start_time": "2022-08-03T10:27:48.857291Z"
    },
    "scrolled": false
   },
   "outputs": [],
   "source": [
    "import warnings\n",
    "import joblib\n",
    "from sklearn.pipeline import Pipeline\n",
    "from sklearn.preprocessing import StandardScaler, OneHotEncoder\n",
    "from sklearn.metrics import (\n",
    "    accuracy_score,\n",
    "    confusion_matrix,\n",
    "    f1_score,\n",
    "    classification_report,\n",
    "    auc,\n",
    "    roc_auc_score,\n",
    "    roc_curve,\n",
    "    det_curve,\n",
    "    precision_recall_curve,\n",
    "    recall_score,\n",
    "    average_precision_score,\n",
    "    precision_score,\n",
    ")\n",
    "from sklearn.exceptions import DataConversionWarning\n",
    "\n",
    "metrics = {}\n",
    "\n",
    "warnings.filterwarnings(action=\"ignore\", category=DataConversionWarning)\n",
    "warnings.filterwarnings(action=\"ignore\", category=UserWarning)\n",
    "joblib.dump(list(X.columns), \"models/columns.pkl\")"
   ]
  },
  {
   "cell_type": "code",
   "execution_count": null,
   "metadata": {
    "ExecuteTime": {
     "end_time": "2022-08-03T10:27:49.108192Z",
     "start_time": "2022-08-03T10:27:48.967112Z"
    },
    "scrolled": false
   },
   "outputs": [],
   "source": [
    "def plot_metrics(classifier, classifier_name, ax):\n",
    "    prediction = classifier.predict(X_test)\n",
    "    accuracy = accuracy_score(y_test, prediction)\n",
    "    f1 = f1_score(y_test, prediction)\n",
    "    recall = recall_score(y_test, prediction)\n",
    "    precision = precision_score(y_test, prediction)\n",
    "    specificity = recall_score(y_test, prediction, pos_label=0)\n",
    "\n",
    "    print(\n",
    "        \"F1 Score: %0.3f. Accuracy: %0.3f. Precision: %0.3f. Recall: %0.3f. Specificity: %0.3f\"\n",
    "        % (f1, accuracy, precision, recall, specificity)\n",
    "    )\n",
    "    print(classification_report(y_test, prediction, target_names=[\"<=50K\", \">50K\"]))\n",
    "\n",
    "    sns.heatmap(\n",
    "        confusion_matrix(y_test, prediction),\n",
    "        annot=True,\n",
    "        fmt=\"d\",\n",
    "        annot_kws={\"size\": 14},\n",
    "        xticklabels=[\"<=50K\", \">50K\"],\n",
    "        yticklabels=[\"<=50K\", \">50K\"],\n",
    "        ax=ax,\n",
    "    )\n",
    "    ax.set_xlabel(\"Predicted label\")\n",
    "    ax.set_ylabel(\"True label\")\n",
    "    ax.set_title(\"Confusion matrix\")\n",
    "\n",
    "    metrics[classifier_name] = {\n",
    "        \"f1\": f1,\n",
    "        \"accuracy\": accuracy,\n",
    "        \"precision\": precision,\n",
    "        \"recall\": recall,\n",
    "        \"specificity\": specificity,\n",
    "    }"
   ]
  },
  {
   "cell_type": "code",
   "execution_count": null,
   "metadata": {
    "ExecuteTime": {
     "end_time": "2022-08-03T10:27:49.249803Z",
     "start_time": "2022-08-03T10:27:49.112210Z"
    },
    "scrolled": false
   },
   "outputs": [],
   "source": [
    "def plot_roc_curve(classifier, classifier_name, ax):\n",
    "    try:\n",
    "        prob_pos = classifier.predict_proba(X_test)[:, 1]\n",
    "    except:\n",
    "        prob_pos = classifier.decision_function(X_test)\n",
    "        prob_pos = (prob_pos - prob_pos.min()) / (prob_pos.max() - prob_pos.min())\n",
    "        ax.plot([], [], \"white\", alpha=0, label=\"*estimated with decision function\")\n",
    "\n",
    "    fpr, tpr, thresholds = roc_curve(y_test, prob_pos)\n",
    "    roc_score = roc_auc_score(y_test, classifier.predict(X_test))\n",
    "\n",
    "    ax.plot(fpr, tpr, label=\"%s (area = %0.3f)\" % (classifier_name, roc_score))\n",
    "    ax.plot([0, 1], [0, 1], \"r--\", label=\"Random guess (area = 0.500)\")\n",
    "    ax.set_xlim([-0.05, 1.05])\n",
    "    ax.set_ylim([0.0, 1.05])\n",
    "    ax.set_xlabel(\"False Positive Rate = 1 - Specificity\")\n",
    "    ax.set_ylabel(\"True Positive Rate = Recall\")\n",
    "    ax.set_title(\"Receiver operating characteristic\")\n",
    "    ax.legend(loc=\"lower right\")\n",
    "    ax.fill(fpr, tpr, \"lightblue\")\n",
    "    ax.fill([0, 1, 1], [0, 1, 0], \"thistle\")\n",
    "\n",
    "    metrics[classifier_name][\"roc_score\"] = roc_score"
   ]
  },
  {
   "cell_type": "code",
   "execution_count": null,
   "metadata": {
    "ExecuteTime": {
     "end_time": "2022-08-03T10:27:49.359476Z",
     "start_time": "2022-08-03T10:27:49.249803Z"
    },
    "scrolled": true
   },
   "outputs": [],
   "source": [
    "def plot_precision_recall(classifier, classifier_name, ax):\n",
    "    try:\n",
    "        prob_pos = classifier.predict_proba(X_test)[:, 1]\n",
    "    except:\n",
    "        prob_pos = classifier.decision_function(X_test)\n",
    "        prob_pos = (prob_pos - prob_pos.min()) / (prob_pos.max() - prob_pos.min())\n",
    "        ax.plot([], [], \"white\", alpha=0, label=\"*estimated with decision function\")\n",
    "\n",
    "    precision, recall, thresholds = precision_recall_curve(y_test, prob_pos)\n",
    "    avg_prec = average_precision_score(y_test, prob_pos)\n",
    "    area = auc(recall, precision)\n",
    "\n",
    "    no_skill = len(y_test[y_test == 1]) / len(y_test)\n",
    "\n",
    "    ax.plot(\n",
    "        recall,\n",
    "        precision,\n",
    "        label=\"%s\\n(avg_prec = %0.3f, area = %0.3f)\"\n",
    "        % (classifier_name, avg_prec, area),\n",
    "    )\n",
    "    # ax.fill(recall, precision, \"lightblue\")\n",
    "    ax.fill_between(recall, 0, precision, color=\"lightblue\")\n",
    "    ax.plot([0, 1], [no_skill, no_skill], \"r--\", label=\"Random guess\")\n",
    "    ax.set_xlim([-0.05, 1.05])\n",
    "    ax.set_ylim([0.0, 1.05])\n",
    "    ax.set_xlabel(\"Recall\")\n",
    "    ax.set_ylabel(\"Precision\")\n",
    "    ax.set_title(\"Precision-recall curve\")\n",
    "    ax.legend(loc=\"lower left\")\n",
    "\n",
    "    metrics[classifier_name][\"avg_prec\"] = avg_prec"
   ]
  },
  {
   "cell_type": "code",
   "execution_count": null,
   "metadata": {
    "ExecuteTime": {
     "end_time": "2022-08-03T10:27:49.626407Z",
     "start_time": "2022-08-03T10:27:49.359476Z"
    },
    "scrolled": false
   },
   "outputs": [],
   "source": [
    "def plot_cap_curve(classifier, classifier_name, ax):\n",
    "    from scipy import integrate\n",
    "\n",
    "    try:\n",
    "        prob_pos = classifier.predict_proba(X_test)[:, 1]\n",
    "    except:\n",
    "        prob_pos = classifier.decision_function(X_test)\n",
    "        prob_pos = (prob_pos - prob_pos.min()) / (prob_pos.max() - prob_pos.min())\n",
    "        ax.plot([], [], \"white\", alpha=0, label=\"*estimated with decision function\")\n",
    "\n",
    "    y_values = y_test\n",
    "    num_pos_obs = np.sum(y_values)\n",
    "    num_count = len(y_values)\n",
    "    rate_pos_obs = float(num_pos_obs) / float(num_count)\n",
    "    ideal = pd.DataFrame({\"x\": [0, rate_pos_obs, 1], \"y\": [0, 1, 1]})\n",
    "    xx = np.arange(num_count) / float(num_count - 1)\n",
    "\n",
    "    y_cap = np.c_[y_values, prob_pos]\n",
    "    y_cap_df_s = pd.DataFrame(data=y_cap)\n",
    "    y_cap_df_s = y_cap_df_s.sort_values([1], ascending=False).reset_index(\n",
    "        level=y_cap_df_s.index.names, drop=True\n",
    "    )\n",
    "\n",
    "    # print(y_cap_df_s.head(20))\n",
    "\n",
    "    yy = np.cumsum(y_cap_df_s[0]) / float(num_pos_obs)\n",
    "    yy = np.append(\n",
    "        [0], yy[0 : num_count - 1]\n",
    "    )  # add the first curve point (0,0) : for xx=0 we have yy=0\n",
    "\n",
    "    percent = 0.5\n",
    "    row_index = int(np.trunc(num_count * percent))\n",
    "\n",
    "    val_y1 = yy[row_index]\n",
    "    val_y2 = yy[row_index + 1]\n",
    "    if val_y1 == val_y2:\n",
    "        val = val_y1 * 1.0\n",
    "    else:\n",
    "        val_x1 = xx[row_index]\n",
    "        val_x2 = xx[row_index + 1]\n",
    "        val = val_y1 + ((val_x2 - percent) / (val_x2 - val_x1)) * (val_y2 - val_y1)\n",
    "\n",
    "    sigma_ideal = (\n",
    "        1 * xx[num_pos_obs - 1] / 2 + (xx[num_count - 1] - xx[num_pos_obs]) * 1\n",
    "    )\n",
    "    sigma_model = integrate.simps(yy, xx)\n",
    "    sigma_random = integrate.simps(xx, xx)\n",
    "    ar_value = (sigma_model - sigma_random) / (sigma_ideal - sigma_random)\n",
    "\n",
    "    ax.plot(ideal[\"x\"], ideal[\"y\"], color=\"dimgrey\", label=\"Perfect Model\")\n",
    "    ax.fill(ideal[\"x\"], ideal[\"y\"], \"lightgrey\")\n",
    "    ax.plot(xx, yy, label=\"%s (AR = %0.3f)\" % (classifier_name, ar_value))\n",
    "    ax.fill(xx, yy, \"lightblue\")\n",
    "    ax.plot(xx, xx, \"r--\", label=\"Random guess\")\n",
    "    ax.plot([percent, percent], [0.0, val], \"g--\", linewidth=1)\n",
    "    ax.plot(\n",
    "        [0, percent],\n",
    "        [val, val],\n",
    "        \"g--\",\n",
    "        linewidth=1,\n",
    "        label=\"%0.3f%% of positive obs at %0.1f%%\" % (val * 100, percent * 100),\n",
    "    )\n",
    "    ax.fill([0, 1, 1], [0, 1, 0], \"thistle\")\n",
    "    ax.set_xlim(-0.05, 1.05)\n",
    "    ax.set_ylim(0, 1.05)\n",
    "    ax.set_title(\"Cumulative accuracy profile\")\n",
    "    ax.set_xlabel(\"% of the data\")\n",
    "    ax.set_ylabel(\"% of positive obs\")\n",
    "    ax.legend(loc=\"lower right\")\n",
    "\n",
    "    metrics[classifier_name][\"acc_ratio\"] = ar_value"
   ]
  },
  {
   "cell_type": "code",
   "execution_count": null,
   "metadata": {
    "ExecuteTime": {
     "end_time": "2022-08-03T10:27:49.736412Z",
     "start_time": "2022-08-03T10:27:49.626407Z"
    },
    "scrolled": false
   },
   "outputs": [],
   "source": [
    "from time import perf_counter\n",
    "\n",
    "\n",
    "def classify_and_plot(classifier, trainining_set_only=True):\n",
    "    classifier_name = type(classifier).__name__\n",
    "    if classifier_name == \"Pipeline\":\n",
    "        classifier_name = classifier.steps[-1][0]\n",
    "    fit_start = perf_counter()\n",
    "    classifier.fit(X_train, y_train)\n",
    "    fit_end = perf_counter()\n",
    "    fig, axs = plt.subplots(1, 4, figsize=(28, 5))\n",
    "    plot_metrics(classifier, classifier_name, axs[0])\n",
    "    plot_roc_curve(classifier, classifier_name, axs[1])\n",
    "    plot_precision_recall(classifier, classifier_name, axs[2])\n",
    "    plot_cap_curve(classifier, classifier_name, axs[3])\n",
    "    fig.suptitle(classifier_name, fontsize=18)\n",
    "    plt.savefig(\n",
    "        \"img/\" + classifier_name + \".png\",\n",
    "        bbox_inches=\"tight\",\n",
    "        format=\"png\",\n",
    "        facecolor=\"white\",\n",
    "        dpi=150,\n",
    "    )\n",
    "    plt.savefig(\"img/\" + classifier_name + \".svg\", bbox_inches=\"tight\", format=\"svg\")\n",
    "    plot_end = perf_counter()\n",
    "    metrics[classifier_name][\"fit_time\"] = fit_end - fit_start\n",
    "    metrics[classifier_name][\"plot_time\"] = plot_end - fit_end\n",
    "    metrics[classifier_name][\"model\"] = classifier\n",
    "    joblib.dump(classifier, \"models/\" + classifier_name + \".pkl\")\n",
    "    return classifier"
   ]
  },
  {
   "cell_type": "markdown",
   "metadata": {},
   "source": [
    "# Classic Data Science Classifiers"
   ]
  },
  {
   "cell_type": "markdown",
   "metadata": {},
   "source": [
    "## Dummy Classifier"
   ]
  },
  {
   "cell_type": "code",
   "execution_count": null,
   "metadata": {
    "ExecuteTime": {
     "end_time": "2022-08-03T10:27:52.595058Z",
     "start_time": "2022-08-03T10:27:49.736412Z"
    }
   },
   "outputs": [],
   "source": [
    "from sklearn.dummy import DummyClassifier\n",
    "\n",
    "pipeline = Pipeline(\n",
    "    [\n",
    "        (\"Dummy_Stratified\", DummyClassifier(strategy=\"stratified\")),\n",
    "    ]\n",
    ")\n",
    "classify_and_plot(pipeline)"
   ]
  },
  {
   "cell_type": "markdown",
   "metadata": {},
   "source": [
    "## Logistic Regression"
   ]
  },
  {
   "cell_type": "code",
   "execution_count": null,
   "metadata": {
    "ExecuteTime": {
     "end_time": "2022-08-03T10:27:56.050109Z",
     "start_time": "2022-08-03T10:27:52.595058Z"
    },
    "scrolled": false
   },
   "outputs": [],
   "source": [
    "from sklearn.linear_model import LogisticRegression\n",
    "\n",
    "pipeline = Pipeline(\n",
    "    [\n",
    "        (\"select\", feature_select),\n",
    "        (\"LogisticRegression_30\", LogisticRegression(solver=\"liblinear\")),\n",
    "    ]\n",
    ")\n",
    "classify_and_plot(pipeline)"
   ]
  },
  {
   "cell_type": "code",
   "execution_count": null,
   "metadata": {
    "ExecuteTime": {
     "end_time": "2022-08-03T10:27:59.595470Z",
     "start_time": "2022-08-03T10:27:56.050109Z"
    }
   },
   "outputs": [],
   "source": [
    "pipeline = Pipeline(\n",
    "    [\n",
    "        (\"LogisticRegression_80\", LogisticRegression(solver=\"liblinear\")),\n",
    "    ]\n",
    ")\n",
    "classify_and_plot(pipeline)"
   ]
  },
  {
   "cell_type": "markdown",
   "metadata": {},
   "source": [
    "## K-nearest Neighbours"
   ]
  },
  {
   "cell_type": "code",
   "execution_count": null,
   "metadata": {
    "ExecuteTime": {
     "end_time": "2022-08-03T10:28:06.034697Z",
     "start_time": "2022-08-03T10:27:59.595470Z"
    },
    "scrolled": false
   },
   "outputs": [],
   "source": [
    "from sklearn.neighbors import KNeighborsClassifier\n",
    "\n",
    "pipeline = Pipeline(\n",
    "    [\n",
    "        (\"select\", feature_select),\n",
    "        (\"scaler\", StandardScaler()),\n",
    "        (\"KNeighborsClassifier_30\", KNeighborsClassifier(n_jobs=-1)),\n",
    "    ]\n",
    ")\n",
    "classify_and_plot(pipeline)"
   ]
  },
  {
   "cell_type": "code",
   "execution_count": null,
   "metadata": {
    "ExecuteTime": {
     "end_time": "2022-08-03T10:28:17.210721Z",
     "start_time": "2022-08-03T10:28:06.034697Z"
    }
   },
   "outputs": [],
   "source": [
    "from sklearn.neighbors import KNeighborsClassifier\n",
    "\n",
    "pipeline = Pipeline(\n",
    "    [\n",
    "        (\"scaler\", StandardScaler()),\n",
    "        (\"KNeighborsClassifier_80\", KNeighborsClassifier(n_jobs=-1)),\n",
    "    ]\n",
    ")\n",
    "classify_and_plot(pipeline)"
   ]
  },
  {
   "cell_type": "markdown",
   "metadata": {},
   "source": [
    "## Gaussian Naive Bayes"
   ]
  },
  {
   "cell_type": "code",
   "execution_count": null,
   "metadata": {
    "ExecuteTime": {
     "end_time": "2022-08-03T10:28:19.927384Z",
     "start_time": "2022-08-03T10:28:17.210721Z"
    },
    "scrolled": false
   },
   "outputs": [],
   "source": [
    "from sklearn.naive_bayes import GaussianNB\n",
    "\n",
    "pipeline = Pipeline(\n",
    "    [\n",
    "        (\"select\", feature_select),\n",
    "        (\"GaussianNB_30\", GaussianNB(priors=[prior_0, prior_1])),\n",
    "    ]\n",
    ")\n",
    "classify_and_plot(pipeline)"
   ]
  },
  {
   "cell_type": "code",
   "execution_count": null,
   "metadata": {
    "ExecuteTime": {
     "end_time": "2022-08-03T10:28:23.060405Z",
     "start_time": "2022-08-03T10:28:19.927384Z"
    },
    "scrolled": false
   },
   "outputs": [],
   "source": [
    "from sklearn.naive_bayes import GaussianNB\n",
    "\n",
    "pipeline = Pipeline(\n",
    "    [\n",
    "        (\"GaussianNB_80\", GaussianNB(priors=[prior_0, prior_1])),\n",
    "    ]\n",
    ")\n",
    "classify_and_plot(pipeline)"
   ]
  },
  {
   "cell_type": "markdown",
   "metadata": {},
   "source": [
    "## Linear Discriminant Analysis"
   ]
  },
  {
   "cell_type": "code",
   "execution_count": null,
   "metadata": {
    "ExecuteTime": {
     "end_time": "2022-08-03T10:28:26.578869Z",
     "start_time": "2022-08-03T10:28:23.060405Z"
    },
    "scrolled": false
   },
   "outputs": [],
   "source": [
    "from sklearn.discriminant_analysis import (\n",
    "    LinearDiscriminantAnalysis,\n",
    "    QuadraticDiscriminantAnalysis,\n",
    ")\n",
    "\n",
    "pipeline = Pipeline(\n",
    "    [\n",
    "        (\"select\", feature_select),\n",
    "        (\"scaler\", StandardScaler()),\n",
    "        (\n",
    "            \"LinearDiscriminantAnalysis_30\",\n",
    "            LinearDiscriminantAnalysis(priors=[prior_0, prior_1]),\n",
    "        ),\n",
    "    ]\n",
    ")\n",
    "# for some arcane reason, the SVD decomposition fails every other time\n",
    "try:\n",
    "    classify_and_plot(pipeline)\n",
    "except:\n",
    "    classify_and_plot(pipeline)"
   ]
  },
  {
   "cell_type": "code",
   "execution_count": null,
   "metadata": {
    "ExecuteTime": {
     "end_time": "2022-08-03T10:28:30.978224Z",
     "start_time": "2022-08-03T10:28:26.578869Z"
    }
   },
   "outputs": [],
   "source": [
    "from sklearn.discriminant_analysis import (\n",
    "    LinearDiscriminantAnalysis,\n",
    "    QuadraticDiscriminantAnalysis,\n",
    ")\n",
    "\n",
    "pipeline = Pipeline(\n",
    "    [\n",
    "        (\"scaler\", StandardScaler()),\n",
    "        (\n",
    "            \"LinearDiscriminantAnalysis_80\",\n",
    "            LinearDiscriminantAnalysis(priors=[prior_0, prior_1]),\n",
    "        ),\n",
    "    ]\n",
    ")\n",
    "# for some arcane reason, the SVD decomposition fails every other time\n",
    "try:\n",
    "    classify_and_plot(pipeline)\n",
    "except:\n",
    "    classify_and_plot(pipeline)"
   ]
  },
  {
   "cell_type": "markdown",
   "metadata": {},
   "source": [
    "## Decision Tree"
   ]
  },
  {
   "cell_type": "code",
   "execution_count": null,
   "metadata": {
    "ExecuteTime": {
     "end_time": "2022-08-03T10:41:13.179624Z",
     "start_time": "2022-08-03T10:41:10.381769Z"
    },
    "scrolled": false
   },
   "outputs": [],
   "source": [
    "from sklearn.tree import DecisionTreeClassifier\n",
    "\n",
    "pipeline = Pipeline(\n",
    "    [\n",
    "        (\"select\", feature_select),\n",
    "        (\"DecisionTreeClassifier_30\", DecisionTreeClassifier()),\n",
    "    ]\n",
    ")\n",
    "classify_and_plot(pipeline)"
   ]
  },
  {
   "cell_type": "markdown",
   "metadata": {},
   "source": [
    "If machine has Graphviz (https://www.graphviz.org/) installed, uncomment to render the decision tree as a PDF"
   ]
  },
  {
   "cell_type": "code",
   "execution_count": null,
   "metadata": {
    "ExecuteTime": {
     "end_time": "2022-08-03T10:48:19.003541Z",
     "start_time": "2022-08-03T10:41:14.189811Z"
    },
    "scrolled": false
   },
   "outputs": [],
   "source": [
    "#!{sys.executable} -m pip install pydotplus\n",
    "\n",
    "'''from io import StringIO\n",
    "from sklearn.tree import export_graphviz\n",
    "import pydotplus\n",
    "\n",
    "dot_data = StringIO()\n",
    "feature_names = X_train.columns[feature_select.get_support()].tolist()\n",
    "export_graphviz(\n",
    "    pipeline.steps[-1][1],\n",
    "    out_file=dot_data,\n",
    "    feature_names=feature_names,\n",
    "    filled=True,\n",
    "    rounded=True,\n",
    "    special_characters=True,\n",
    ")\n",
    "graph = pydotplus.graph_from_dot_data(dot_data.getvalue())\n",
    "graph.write_pdf(\"models/tree.pdf\")'''"
   ]
  },
  {
   "cell_type": "code",
   "execution_count": null,
   "metadata": {
    "ExecuteTime": {
     "end_time": "2022-08-03T10:28:37.622736Z",
     "start_time": "2022-08-03T10:28:34.231375Z"
    }
   },
   "outputs": [],
   "source": [
    "from sklearn.tree import DecisionTreeClassifier\n",
    "\n",
    "pipeline = Pipeline(\n",
    "    [\n",
    "        (\"DecisionTreeClassifier_80\", DecisionTreeClassifier()),\n",
    "    ]\n",
    ")\n",
    "classify_and_plot(pipeline)"
   ]
  },
  {
   "cell_type": "markdown",
   "metadata": {},
   "source": [
    "# Ensemble Classifiers"
   ]
  },
  {
   "cell_type": "markdown",
   "metadata": {},
   "source": [
    "## Random Forest"
   ]
  },
  {
   "cell_type": "code",
   "execution_count": null,
   "metadata": {
    "ExecuteTime": {
     "end_time": "2022-08-03T10:28:43.507686Z",
     "start_time": "2022-08-03T10:28:37.622736Z"
    },
    "scrolled": false
   },
   "outputs": [],
   "source": [
    "from sklearn.ensemble import RandomForestClassifier\n",
    "\n",
    "pipeline = Pipeline(\n",
    "    [\n",
    "        (\"select\", feature_select),\n",
    "        (\"RandomForestClassifier_30\", RandomForestClassifier(n_estimators=100)),\n",
    "    ]\n",
    ")\n",
    "classify_and_plot(pipeline)"
   ]
  },
  {
   "cell_type": "code",
   "execution_count": null,
   "metadata": {
    "ExecuteTime": {
     "end_time": "2022-08-03T10:28:52.723407Z",
     "start_time": "2022-08-03T10:28:43.507686Z"
    }
   },
   "outputs": [],
   "source": [
    "from sklearn.ensemble import RandomForestClassifier\n",
    "\n",
    "pipeline = Pipeline(\n",
    "    [\n",
    "        (\"RandomForestClassifier_80\", RandomForestClassifier(n_estimators=100)),\n",
    "    ]\n",
    ")\n",
    "classify_and_plot(pipeline)"
   ]
  },
  {
   "cell_type": "markdown",
   "metadata": {},
   "source": [
    "## Extra Trees"
   ]
  },
  {
   "cell_type": "code",
   "execution_count": null,
   "metadata": {
    "ExecuteTime": {
     "end_time": "2022-08-03T10:29:02.275370Z",
     "start_time": "2022-08-03T10:28:52.723407Z"
    }
   },
   "outputs": [],
   "source": [
    "from sklearn.ensemble import ExtraTreesClassifier\n",
    "\n",
    "pipeline = Pipeline(\n",
    "    [\n",
    "        (\"select\", feature_select),\n",
    "        (\n",
    "            \"ExtraTreesClassifier_30\",\n",
    "            ExtraTreesClassifier(n_estimators=100),\n",
    "        ),\n",
    "    ]\n",
    ")\n",
    "classify_and_plot(pipeline)"
   ]
  },
  {
   "cell_type": "code",
   "execution_count": null,
   "metadata": {
    "ExecuteTime": {
     "end_time": "2022-08-03T10:29:16.961478Z",
     "start_time": "2022-08-03T10:29:02.275370Z"
    }
   },
   "outputs": [],
   "source": [
    "from sklearn.ensemble import ExtraTreesClassifier\n",
    "\n",
    "pipeline = Pipeline(\n",
    "    [\n",
    "        (\"ExtraTreesClassifier_80\", ExtraTreesClassifier(n_estimators=100)),\n",
    "    ]\n",
    ")\n",
    "classify_and_plot(pipeline)"
   ]
  },
  {
   "cell_type": "markdown",
   "metadata": {},
   "source": [
    "## Bagging"
   ]
  },
  {
   "cell_type": "code",
   "execution_count": null,
   "metadata": {
    "ExecuteTime": {
     "end_time": "2022-08-03T10:29:33.804342Z",
     "start_time": "2022-08-03T10:29:16.963160Z"
    }
   },
   "outputs": [],
   "source": [
    "from sklearn.ensemble import BaggingClassifier\n",
    "\n",
    "pipeline = Pipeline(\n",
    "    [\n",
    "        (\"select\", feature_select),\n",
    "        (\n",
    "            \"BaggingClassifier_30\",\n",
    "            BaggingClassifier(\n",
    "                n_estimators=100, max_samples=0.5, max_features=0.5, n_jobs=-1\n",
    "            ),\n",
    "        ),\n",
    "    ]\n",
    ")\n",
    "classify_and_plot(pipeline)"
   ]
  },
  {
   "cell_type": "code",
   "execution_count": null,
   "metadata": {
    "ExecuteTime": {
     "end_time": "2022-08-03T10:29:43.180798Z",
     "start_time": "2022-08-03T10:29:33.804342Z"
    }
   },
   "outputs": [],
   "source": [
    "from sklearn.ensemble import BaggingClassifier\n",
    "\n",
    "pipeline = Pipeline(\n",
    "    [\n",
    "        (\n",
    "            \"BaggingClassifier_80\",\n",
    "            BaggingClassifier(\n",
    "                n_estimators=100, max_samples=0.5, max_features=0.5, n_jobs=-1\n",
    "            ),\n",
    "        ),\n",
    "    ]\n",
    ")\n",
    "classify_and_plot(pipeline)"
   ]
  },
  {
   "cell_type": "markdown",
   "metadata": {},
   "source": [
    "## Gradient Boosting"
   ]
  },
  {
   "cell_type": "code",
   "execution_count": null,
   "metadata": {
    "ExecuteTime": {
     "end_time": "2022-08-03T10:29:52.347699Z",
     "start_time": "2022-08-03T10:29:43.180798Z"
    },
    "scrolled": false
   },
   "outputs": [],
   "source": [
    "from sklearn.ensemble import GradientBoostingClassifier\n",
    "\n",
    "pipeline = Pipeline(\n",
    "    [\n",
    "        (\"select\", feature_select),\n",
    "        (\"GradientBoostingClassifier_30\", GradientBoostingClassifier(n_estimators=100)),\n",
    "    ]\n",
    ")\n",
    "classify_and_plot(pipeline)"
   ]
  },
  {
   "cell_type": "code",
   "execution_count": null,
   "metadata": {
    "ExecuteTime": {
     "end_time": "2022-08-03T10:30:02.935056Z",
     "start_time": "2022-08-03T10:29:52.352711Z"
    }
   },
   "outputs": [],
   "source": [
    "from sklearn.ensemble import GradientBoostingClassifier\n",
    "\n",
    "pipeline = Pipeline(\n",
    "    [\n",
    "        (\"GradientBoostingClassifier_80\", GradientBoostingClassifier(n_estimators=100)),\n",
    "    ]\n",
    ")\n",
    "classify_and_plot(pipeline)"
   ]
  },
  {
   "cell_type": "markdown",
   "metadata": {},
   "source": [
    "## AdaBoost"
   ]
  },
  {
   "cell_type": "code",
   "execution_count": null,
   "metadata": {
    "ExecuteTime": {
     "end_time": "2022-08-03T10:30:09.798976Z",
     "start_time": "2022-08-03T10:30:02.935056Z"
    },
    "scrolled": false
   },
   "outputs": [],
   "source": [
    "from sklearn.ensemble import AdaBoostClassifier\n",
    "\n",
    "pipeline = Pipeline(\n",
    "    [\n",
    "        (\"select\", feature_select),\n",
    "        (\"AdaBoostClassifier_30\", AdaBoostClassifier(n_estimators=100)),\n",
    "    ]\n",
    ")\n",
    "classify_and_plot(pipeline)"
   ]
  },
  {
   "cell_type": "code",
   "execution_count": null,
   "metadata": {
    "ExecuteTime": {
     "end_time": "2022-08-03T10:30:19.192579Z",
     "start_time": "2022-08-03T10:30:09.798976Z"
    }
   },
   "outputs": [],
   "source": [
    "from sklearn.ensemble import AdaBoostClassifier\n",
    "\n",
    "pipeline = Pipeline(\n",
    "    [\n",
    "        (\"AdaBoostClassifier_80\", AdaBoostClassifier(n_estimators=100)),\n",
    "    ]\n",
    ")\n",
    "classify_and_plot(pipeline)"
   ]
  },
  {
   "cell_type": "markdown",
   "metadata": {},
   "source": [
    "## Histogram-Based Gradient Boosting"
   ]
  },
  {
   "cell_type": "code",
   "execution_count": null,
   "metadata": {
    "ExecuteTime": {
     "end_time": "2022-08-03T10:30:26.035731Z",
     "start_time": "2022-08-03T10:30:19.192579Z"
    }
   },
   "outputs": [],
   "source": [
    "from sklearn.ensemble import HistGradientBoostingClassifier\n",
    "\n",
    "pipeline = Pipeline(\n",
    "    [\n",
    "        (\"select\", feature_select),\n",
    "        (\"HistGradientBoostingClassifier_30\", HistGradientBoostingClassifier()),\n",
    "    ]\n",
    ")\n",
    "classify_and_plot(pipeline)"
   ]
  },
  {
   "cell_type": "code",
   "execution_count": null,
   "metadata": {
    "ExecuteTime": {
     "end_time": "2022-08-03T10:30:34.240053Z",
     "start_time": "2022-08-03T10:30:26.035731Z"
    }
   },
   "outputs": [],
   "source": [
    "from sklearn.ensemble import HistGradientBoostingClassifier\n",
    "\n",
    "pipeline = Pipeline(\n",
    "    [\n",
    "        (\"HistGradientBoostingClassifier_80\", HistGradientBoostingClassifier()),\n",
    "    ]\n",
    ")\n",
    "classify_and_plot(pipeline)"
   ]
  },
  {
   "cell_type": "markdown",
   "metadata": {},
   "source": [
    "## XGBoost"
   ]
  },
  {
   "cell_type": "code",
   "execution_count": null,
   "metadata": {
    "ExecuteTime": {
     "end_time": "2022-08-03T10:31:03.691028Z",
     "start_time": "2022-08-03T10:30:34.240053Z"
    },
    "scrolled": false
   },
   "outputs": [],
   "source": [
    "from xgboost.sklearn import XGBClassifier\n",
    "\n",
    "pipeline = Pipeline(\n",
    "    [\n",
    "        (\"select\", feature_select),\n",
    "        (\n",
    "            \"XGBClassifier_30\",\n",
    "            XGBClassifier(max_depth=100, nthread=-1, eval_metric=\"logloss\"),\n",
    "        ),\n",
    "    ]\n",
    ")\n",
    "classify_and_plot(pipeline)"
   ]
  },
  {
   "cell_type": "code",
   "execution_count": null,
   "metadata": {
    "ExecuteTime": {
     "end_time": "2022-08-03T10:32:06.699284Z",
     "start_time": "2022-08-03T10:31:03.691028Z"
    }
   },
   "outputs": [],
   "source": [
    "from xgboost.sklearn import XGBClassifier\n",
    "\n",
    "pipeline = Pipeline(\n",
    "    [\n",
    "        (\n",
    "            \"XGBClassifier_80\",\n",
    "            XGBClassifier(max_depth=100, nthread=-1, eval_metric=\"logloss\"),\n",
    "        ),\n",
    "    ]\n",
    ")\n",
    "classify_and_plot(pipeline)"
   ]
  },
  {
   "cell_type": "markdown",
   "metadata": {},
   "source": [
    "## CatBoost"
   ]
  },
  {
   "cell_type": "code",
   "execution_count": null,
   "metadata": {
    "ExecuteTime": {
     "end_time": "2022-08-03T10:32:12.728820Z",
     "start_time": "2022-08-03T10:32:06.699284Z"
    }
   },
   "outputs": [],
   "source": [
    "from catboost import CatBoostClassifier\n",
    "\n",
    "pipeline = Pipeline(\n",
    "    [\n",
    "        (\"select\", feature_select),\n",
    "        (\"CatBoostClassifier_30\", CatBoostClassifier(verbose=0, n_estimators=100)),\n",
    "    ]\n",
    ")\n",
    "classify_and_plot(pipeline)"
   ]
  },
  {
   "cell_type": "code",
   "execution_count": null,
   "metadata": {
    "ExecuteTime": {
     "end_time": "2022-08-03T10:32:17.851232Z",
     "start_time": "2022-08-03T10:32:12.728820Z"
    }
   },
   "outputs": [],
   "source": [
    "from catboost import CatBoostClassifier\n",
    "\n",
    "pipeline = Pipeline(\n",
    "    [\n",
    "        (\"CatBoostClassifier_80\", CatBoostClassifier(verbose=0, n_estimators=100)),\n",
    "    ]\n",
    ")\n",
    "classify_and_plot(pipeline)"
   ]
  },
  {
   "cell_type": "markdown",
   "metadata": {},
   "source": [
    "## Microsoft LightGBM"
   ]
  },
  {
   "cell_type": "code",
   "execution_count": null,
   "metadata": {
    "ExecuteTime": {
     "end_time": "2022-08-03T10:32:23.033822Z",
     "start_time": "2022-08-03T10:32:17.851232Z"
    },
    "scrolled": false
   },
   "outputs": [],
   "source": [
    "from lightgbm.sklearn import LGBMClassifier\n",
    "\n",
    "pipeline = Pipeline(\n",
    "    [\n",
    "        (\"select\", feature_select),\n",
    "        (\"LightGBM_30\", LGBMClassifier()),\n",
    "    ]\n",
    ")\n",
    "classify_and_plot(pipeline)"
   ]
  },
  {
   "cell_type": "code",
   "execution_count": null,
   "metadata": {
    "ExecuteTime": {
     "end_time": "2022-08-03T10:32:26.739845Z",
     "start_time": "2022-08-03T10:32:23.033822Z"
    }
   },
   "outputs": [],
   "source": [
    "from lightgbm.sklearn import LGBMClassifier\n",
    "\n",
    "pipeline = Pipeline(\n",
    "    [\n",
    "        (\"LightGBM_80\", LGBMClassifier()),\n",
    "    ]\n",
    ")\n",
    "classify_and_plot(pipeline)"
   ]
  },
  {
   "cell_type": "markdown",
   "metadata": {},
   "source": [
    "# Support Vector Machines"
   ]
  },
  {
   "cell_type": "markdown",
   "metadata": {},
   "source": [
    "## Linear SVM"
   ]
  },
  {
   "cell_type": "code",
   "execution_count": null,
   "metadata": {
    "ExecuteTime": {
     "end_time": "2022-08-03T10:32:34.906055Z",
     "start_time": "2022-08-03T10:32:26.739845Z"
    },
    "scrolled": false
   },
   "outputs": [],
   "source": [
    "from sklearn.svm import LinearSVC\n",
    "\n",
    "pipeline = Pipeline(\n",
    "    [\n",
    "        (\"select\", feature_select),\n",
    "        (\"scaler\", StandardScaler()),\n",
    "        (\"LinearSVC_30\", LinearSVC(C=0.2)),\n",
    "    ]\n",
    ")\n",
    "classify_and_plot(pipeline)"
   ]
  },
  {
   "cell_type": "code",
   "execution_count": null,
   "metadata": {
    "ExecuteTime": {
     "end_time": "2022-08-03T10:32:52.183797Z",
     "start_time": "2022-08-03T10:32:34.906055Z"
    }
   },
   "outputs": [],
   "source": [
    "from sklearn.svm import LinearSVC\n",
    "\n",
    "pipeline = Pipeline(\n",
    "    [\n",
    "        (\"scaler\", StandardScaler()),\n",
    "        (\"LinearSVC_80\", LinearSVC(C=0.2)),\n",
    "    ]\n",
    ")\n",
    "classify_and_plot(pipeline)"
   ]
  },
  {
   "cell_type": "markdown",
   "metadata": {},
   "source": [
    "## SVC with Polynomial Kernel"
   ]
  },
  {
   "cell_type": "code",
   "execution_count": null,
   "metadata": {
    "ExecuteTime": {
     "end_time": "2022-08-03T10:33:07.498409Z",
     "start_time": "2022-08-03T10:32:52.183797Z"
    },
    "scrolled": false
   },
   "outputs": [],
   "source": [
    "from sklearn.svm import SVC\n",
    "\n",
    "pipeline = Pipeline(\n",
    "    [\n",
    "        (\"select\", feature_select),\n",
    "        (\"scaler\", StandardScaler()),\n",
    "        (\"SVC_poly\", SVC(C=1.0, kernel=\"poly\", gamma=\"scale\")),\n",
    "    ]\n",
    ")\n",
    "classify_and_plot(pipeline)"
   ]
  },
  {
   "cell_type": "markdown",
   "metadata": {},
   "source": [
    "## SVC with Radial Basis Function Kernel"
   ]
  },
  {
   "cell_type": "code",
   "execution_count": null,
   "metadata": {
    "ExecuteTime": {
     "end_time": "2022-08-03T10:33:19.115106Z",
     "start_time": "2022-08-03T10:33:07.498409Z"
    },
    "scrolled": false
   },
   "outputs": [],
   "source": [
    "from sklearn.svm import SVC\n",
    "\n",
    "pipeline = Pipeline(\n",
    "    [\n",
    "        (\"select\", feature_select),\n",
    "        (\"scaler\", StandardScaler()),\n",
    "        (\"SVC_rbf\", SVC(C=1.0, kernel=\"rbf\", gamma=\"scale\")),\n",
    "    ]\n",
    ")\n",
    "classify_and_plot(pipeline)"
   ]
  },
  {
   "cell_type": "markdown",
   "metadata": {},
   "source": [
    "# Neural Networks"
   ]
  },
  {
   "cell_type": "markdown",
   "metadata": {},
   "source": [
    "## Multi-Layer Perceptron"
   ]
  },
  {
   "cell_type": "code",
   "execution_count": null,
   "metadata": {
    "ExecuteTime": {
     "end_time": "2022-08-03T10:33:29.230238Z",
     "start_time": "2022-08-03T10:33:19.115106Z"
    },
    "scrolled": false
   },
   "outputs": [],
   "source": [
    "from keras.models import Sequential\n",
    "from keras.layers import Dense, Dropout, Activation, LeakyReLU\n",
    "from keras.callbacks import EarlyStopping, ModelCheckpoint, TensorBoard\n",
    "from keras.optimizers import Adam, Adadelta, SGD\n",
    "from keras.metrics import Precision, Recall, Accuracy\n",
    "from scikeras.wrappers import KerasClassifier\n",
    "\n",
    "# import keras_metrics"
   ]
  },
  {
   "cell_type": "code",
   "execution_count": null,
   "metadata": {
    "ExecuteTime": {
     "end_time": "2022-08-03T10:33:29.277221Z",
     "start_time": "2022-08-03T10:33:29.230238Z"
    }
   },
   "outputs": [],
   "source": [
    "from tensorflow.config import set_soft_device_placement\n",
    "\n",
    "from tensorflow.config.threading import (\n",
    "    set_inter_op_parallelism_threads,\n",
    "    set_intra_op_parallelism_threads,\n",
    ")\n",
    "\n",
    "set_inter_op_parallelism_threads(0)\n",
    "set_intra_op_parallelism_threads(0)\n",
    "set_soft_device_placement(True)"
   ]
  },
  {
   "cell_type": "markdown",
   "metadata": {},
   "source": [
    "Fully connected layers:\n",
    "- 80 inputs\n",
    "- Hidden layer with 40 neurons, leaky ReLU as activation, and dropout rate of 10%\n",
    "- Hidden layer with 20 neurons, leaky ReLU as activation, and dropout rate of 10%\n",
    "- 1 single output with sigmoid activation"
   ]
  },
  {
   "cell_type": "code",
   "execution_count": null,
   "metadata": {
    "ExecuteTime": {
     "end_time": "2022-08-03T10:33:29.323979Z",
     "start_time": "2022-08-03T10:33:29.277221Z"
    },
    "scrolled": false
   },
   "outputs": [],
   "source": [
    "def create_model():\n",
    "    model = Sequential()\n",
    "    model.add(\n",
    "        Dense(\n",
    "            40,\n",
    "            kernel_initializer=\"glorot_normal\",\n",
    "            activation=\"relu\",\n",
    "            input_dim=X_train.shape[1],\n",
    "        )\n",
    "    )\n",
    "    # model.add(LeakyReLU(alpha=0.001))\n",
    "    model.add(Dropout(rate=0.1))\n",
    "    model.add(Dense(20, kernel_initializer=\"glorot_normal\", activation=\"relu\"))\n",
    "    # model.add(LeakyReLU(alpha=0.001))\n",
    "    model.add(Dropout(rate=0.1))\n",
    "    model.add(Dense(1, kernel_initializer=\"glorot_normal\", activation=\"sigmoid\"))\n",
    "    model.compile(\n",
    "        loss=\"binary_crossentropy\",\n",
    "        optimizer=SGD(nesterov=True),\n",
    "        metrics=[\n",
    "            \"accuracy\",\n",
    "            \"Precision\",\n",
    "            \"Recall\",\n",
    "        ],\n",
    "    )\n",
    "    return model"
   ]
  },
  {
   "cell_type": "markdown",
   "metadata": {},
   "source": [
    "Features must be scaled by subtracting the mean and scaling to unit variance.\n",
    "\n",
    "Absolute maximum of 250 training epochs, with 3 callbacks:\n",
    "1. Monitor loss on validation test set (val_loss), and stop training once it stops improving\n",
    "2. Persist to disk the model state that yielded the best val_loss.\n",
    "3. Tensorboard callback"
   ]
  },
  {
   "cell_type": "code",
   "execution_count": null,
   "metadata": {
    "ExecuteTime": {
     "end_time": "2022-08-03T10:33:29.418197Z",
     "start_time": "2022-08-03T10:33:29.323979Z"
    },
    "scrolled": false
   },
   "outputs": [],
   "source": [
    "import datetime\n",
    "import os\n",
    "\n",
    "logs_dir = os.path.normpath(os.path.join(os.getcwd(), \"logs/fit/\"))\n",
    "this_log_dir = os.path.normpath(\n",
    "    os.path.join(logs_dir, datetime.datetime.now().strftime(\"%Y%m%d-%H%M%S\"))\n",
    ")\n",
    "tensorboard = TensorBoard(log_dir=this_log_dir, histogram_freq=1)\n",
    "\n",
    "checkpoint = ModelCheckpoint(\n",
    "    \"models/best_model.hdf5\",\n",
    "    monitor=\"val_loss\",\n",
    "    mode=\"min\",\n",
    "    verbose=0,\n",
    "    save_best_only=True,\n",
    ")\n",
    "early_stop = EarlyStopping(\n",
    "    monitor=\"val_loss\", patience=50, verbose=1, mode=\"min\", restore_best_weights=True\n",
    ")\n",
    "\n",
    "\n",
    "pipeline = Pipeline(\n",
    "    [\n",
    "        (\"scaler\", StandardScaler()),\n",
    "        (\n",
    "            \"KerasClassifier\",\n",
    "            KerasClassifier(\n",
    "                build_fn=create_model,\n",
    "                epochs=250,\n",
    "                batch_size=50,\n",
    "                verbose=2,\n",
    "                validation_split=0.10,\n",
    "                callbacks=[\n",
    "                    checkpoint,\n",
    "                    early_stop,\n",
    "                    # tensorboard, #Removed to avoid an error persisting with joblib\n",
    "                ],\n",
    "            ),\n",
    "        ),\n",
    "    ]\n",
    ")"
   ]
  },
  {
   "cell_type": "code",
   "execution_count": null,
   "metadata": {
    "ExecuteTime": {
     "end_time": "2022-08-03T10:40:19.510073Z",
     "start_time": "2022-08-03T10:33:29.418197Z"
    },
    "scrolled": true
   },
   "outputs": [],
   "source": [
    "classify_and_plot(pipeline)"
   ]
  },
  {
   "cell_type": "markdown",
   "metadata": {},
   "source": [
    "# Overall Classifier Ratings"
   ]
  },
  {
   "cell_type": "code",
   "execution_count": null,
   "metadata": {
    "ExecuteTime": {
     "end_time": "2022-08-03T10:40:19.776686Z",
     "start_time": "2022-08-03T10:40:19.510073Z"
    },
    "scrolled": false
   },
   "outputs": [],
   "source": [
    "metrics_df = pd.DataFrame.from_dict(metrics, orient=\"index\")\n",
    "styled_metrics_df = (\n",
    "    metrics_df.drop(labels=\"model\", axis=1)\n",
    "    .sort_values([\"f1\", \"accuracy\", \"precision\", \"recall\"], ascending=False)\n",
    "    .style.background_gradient(cmap=\"coolwarm\")\n",
    "    .format(\"{:.4f}\")\n",
    "    .set_properties(**{\"min-width\": \"6em\"})\n",
    ")\n",
    "styled_metrics_df"
   ]
  },
  {
   "cell_type": "code",
   "execution_count": null,
   "metadata": {
    "ExecuteTime": {
     "end_time": "2022-08-03T10:40:23.363019Z",
     "start_time": "2022-08-03T10:40:19.776686Z"
    }
   },
   "outputs": [],
   "source": [
    "import dataframe_image as dfi\n",
    "\n",
    "dfi.export(styled_metrics_df, \"img/census_metrics_df.png\", max_rows=-1)"
   ]
  },
  {
   "cell_type": "code",
   "execution_count": null,
   "metadata": {},
   "outputs": [],
   "source": []
  }
 ],
 "metadata": {
  "interpreter": {
   "hash": "f9582fe230dad31351d4ae01e32afdf53e56c5a8ecf693daaf5ee2f3281f0314"
  },
  "kernelspec": {
   "display_name": "Python 3 (ipykernel)",
   "language": "python",
   "name": "python3"
  },
  "language_info": {
   "codemirror_mode": {
    "name": "ipython",
    "version": 3
   },
   "file_extension": ".py",
   "mimetype": "text/x-python",
   "name": "python",
   "nbconvert_exporter": "python",
   "pygments_lexer": "ipython3",
   "version": "3.10.5"
  },
  "notify_time": "10"
 },
 "nbformat": 4,
 "nbformat_minor": 2
}
